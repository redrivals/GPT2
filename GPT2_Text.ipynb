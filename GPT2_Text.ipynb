{
 "cells": [
  {
   "cell_type": "code",
   "execution_count": 2,
   "id": "2af0435a",
   "metadata": {},
   "outputs": [
    {
     "name": "stdout",
     "output_type": "stream",
     "text": [
      "Collecting transformers\n",
      "  Downloading transformers-4.12.2-py3-none-any.whl (3.1 MB)\n",
      "Collecting tokenizers<0.11,>=0.10.1\n",
      "  Downloading tokenizers-0.10.3-cp38-cp38-win_amd64.whl (2.0 MB)\n",
      "Collecting sacremoses\n",
      "  Downloading sacremoses-0.0.46-py3-none-any.whl (895 kB)\n",
      "Requirement already satisfied: numpy>=1.17 in c:\\programdata\\anaconda4\\lib\\site-packages (from transformers) (1.20.1)\n",
      "Requirement already satisfied: regex!=2019.12.17 in c:\\programdata\\anaconda4\\lib\\site-packages (from transformers) (2021.4.4)\n",
      "Requirement already satisfied: pyyaml>=5.1 in c:\\programdata\\anaconda4\\lib\\site-packages (from transformers) (5.4.1)\n",
      "Requirement already satisfied: filelock in c:\\programdata\\anaconda4\\lib\\site-packages (from transformers) (3.0.12)\n",
      "Requirement already satisfied: packaging>=20.0 in c:\\programdata\\anaconda4\\lib\\site-packages (from transformers) (20.9)\n",
      "Requirement already satisfied: tqdm>=4.27 in c:\\programdata\\anaconda4\\lib\\site-packages (from transformers) (4.59.0)\n",
      "Requirement already satisfied: requests in c:\\programdata\\anaconda4\\lib\\site-packages (from transformers) (2.25.1)\n",
      "Collecting huggingface-hub>=0.0.17\n",
      "  Downloading huggingface_hub-0.0.19-py3-none-any.whl (56 kB)\n",
      "Requirement already satisfied: typing-extensions in c:\\programdata\\anaconda4\\lib\\site-packages (from huggingface-hub>=0.0.17->transformers) (3.7.4.3)\n",
      "Requirement already satisfied: pyparsing>=2.0.2 in c:\\programdata\\anaconda4\\lib\\site-packages (from packaging>=20.0->transformers) (2.4.7)\n",
      "Requirement already satisfied: urllib3<1.27,>=1.21.1 in c:\\programdata\\anaconda4\\lib\\site-packages (from requests->transformers) (1.26.4)\n",
      "Requirement already satisfied: idna<3,>=2.5 in c:\\programdata\\anaconda4\\lib\\site-packages (from requests->transformers) (2.10)\n",
      "Requirement already satisfied: chardet<5,>=3.0.2 in c:\\programdata\\anaconda4\\lib\\site-packages (from requests->transformers) (4.0.0)\n",
      "Requirement already satisfied: certifi>=2017.4.17 in c:\\programdata\\anaconda4\\lib\\site-packages (from requests->transformers) (2020.12.5)\n",
      "Requirement already satisfied: six in c:\\programdata\\anaconda4\\lib\\site-packages (from sacremoses->transformers) (1.15.0)\n",
      "Requirement already satisfied: click in c:\\programdata\\anaconda4\\lib\\site-packages (from sacremoses->transformers) (7.1.2)\n",
      "Requirement already satisfied: joblib in c:\\programdata\\anaconda4\\lib\\site-packages (from sacremoses->transformers) (1.0.1)\n",
      "Installing collected packages: tokenizers, sacremoses, huggingface-hub, transformers\n",
      "Successfully installed huggingface-hub-0.0.19 sacremoses-0.0.46 tokenizers-0.10.3 transformers-4.12.2\n",
      "Note: you may need to restart the kernel to use updated packages.\n"
     ]
    }
   ],
   "source": [
    "pip install transformers"
   ]
  },
  {
   "cell_type": "code",
   "execution_count": 1,
   "id": "4be78d97",
   "metadata": {},
   "outputs": [],
   "source": [
    "from transformers import GPT2LMHeadModel,GPT2Tokenizer"
   ]
  },
  {
   "cell_type": "code",
   "execution_count": 3,
   "id": "4bc11dd2",
   "metadata": {},
   "outputs": [],
   "source": [
    "tokenizer = GPT2Tokenizer.from_pretrained('gpt2')\n",
    "model = GPT2LMHeadModel.from_pretrained('gpt2', pad_token_id =tokenizer.eos_token_id)"
   ]
  },
  {
   "cell_type": "code",
   "execution_count": 4,
   "id": "0bf4c094",
   "metadata": {},
   "outputs": [
    {
     "data": {
      "text/plain": [
       "50256"
      ]
     },
     "execution_count": 4,
     "metadata": {},
     "output_type": "execute_result"
    }
   ],
   "source": [
    "tokenizer.eos_token_id"
   ]
  },
  {
   "cell_type": "code",
   "execution_count": 51,
   "id": "042874f8",
   "metadata": {},
   "outputs": [],
   "source": [
    "sentence = \"Internet is a boom\"\n",
    "input_ids = tokenizer.encode(sentence,return_tensors='pt')"
   ]
  },
  {
   "cell_type": "code",
   "execution_count": 52,
   "id": "98c1eee6",
   "metadata": {},
   "outputs": [],
   "source": [
    "output = model.generate(input_ids , max_length = 500 , num_beams = 5, no_repeat_ngram_size =5, early_stopping = True)"
   ]
  },
  {
   "cell_type": "code",
   "execution_count": 53,
   "id": "19d1b348",
   "metadata": {},
   "outputs": [
    {
     "data": {
      "text/plain": [
       "tensor([[28566,   318,   257, 14166,    12,   392,    12,    65,   436,  2831,\n",
       "            13,   198,   198,   818,   262,  1613,  1178,   812,    11,   612,\n",
       "           423,   587,   257,  1271,   286,  2458,   284,   262,   835,   356,\n",
       "         10996,   351,  1123,   584,    13,  1881,   286,   262,   749,  2383,\n",
       "           318,   262,  9793,   286,   262,  4455, 20497,   357,  4061,   737,\n",
       "           198,   198,   464,  4455, 20497,   357,  4061,     8,   318,   257,\n",
       "          8435,   973,   416,   262,  4455,  4809,  7518,  4157,   357,  1797,\n",
       "         12016,     8,   284, 10996,   351,  1123,   584,   625,   262,  4455,\n",
       "            13,   383,  4455, 20497,   357,  4061,   828,   543,   373,   717,\n",
       "          5495,   287,  8235,    11,   318,   262,   749,  6768,   973,  8435,\n",
       "           287,   262,   995,  1909,    13,   198,   198,  4061,   318,   257,\n",
       "          8435,   326,   318,   973,   284, 10996,   625,   262,  4455,    13,\n",
       "           632,   318,   973,   284,  2018,  9061,   284,   262,  4455,    13,\n",
       "           198,   198,  1026,   318,   973,   284,  3758,   290,  3328,  1366,\n",
       "           625,   262,  4455,    13,   554,  3090,    11,   340,   318,   973,\n",
       "           284, 10996,   351,   584,  9061,   625,   262,  4455,    13,  1114,\n",
       "          1672,    11,   611,   257,  3644,   318,  5884,   284,   262,  4455,\n",
       "            11,   340,   460,  3758,  1366,   625,   262,  4455,   284,   584,\n",
       "          9061,   319,   262,   976,  3127,    13,   198,   198,  4061,   460,\n",
       "           307,   973,   284, 10996,   625,   257,  3094,  2837,   286,  4455,\n",
       "         19565,    13,  1114,  1672,    11,   340,   460,   307,   973,   284,\n",
       "          3758,  1366,   625,   257,  3094,  4996,   286,  4455, 19565,    13,\n",
       "           198,   198,  1026,   460,   635,   307,   973,   284, 10996,   351,\n",
       "           257,  3094,  2837,   286,   584,  9061,    13,  1114,  1672,    11,\n",
       "           257,  3644,   460,   307,  5884,   284,   262,  4455,   290,   460,\n",
       "          3758,  1366,   625,   340,    13,   198,   198,   818,  3090,    11,\n",
       "          6101,   460,   307,   973,   284,  2018,   257,  3644,   284,   262,\n",
       "          4455,   290,   284,  3328,  1366,   625,   340,    13,  1114,  1672,\n",
       "            11,   281,  4455,  4637,   460,   307,   925,  1022,   734,  9061,\n",
       "           319,   262,   976,  3644,  3127,    13,   198,   198,   818,  1502,\n",
       "           284, 10996,   351,   257,  3644,   625,   262,  4455,    11,   257,\n",
       "          3644,  1276,   717,   307,  5884,   284,   257,  3644,   319,   262,\n",
       "          4455,    13,   383,  3644,  1276,   788,   307,  5884,   284,   257,\n",
       "          3127,   286,  9061,   326,   389,  5884,   284,   262,  4455,    13,\n",
       "           383,  3127,   286,  9061,   318,  1444,   257,  3644,    13,   198,\n",
       "           198,    32,  3644,   318,   257,  3644,   326,   318,  5884,   284,\n",
       "           262,  3127,   286,  9061,   319,   262,  4455,    13,   317,  3644,\n",
       "           318,  5884,   284,  1194,  3644,   319,   262,  3127,   286,  9061,\n",
       "            13,   198,   198,   464,  4455,   318,   257,  3127,   286,  9061,\n",
       "            13,   383,  4455,   318,   257,  3127,   326,   318,  5884,   284,\n",
       "           257,  3644,    13,   383,  4455,   318,   635,   257,  3127,   326,\n",
       "           318,  6692,   284,   257,  3127,   286,   584,  9061,   319,   262,\n",
       "          3127,   286,   584,  9061,    13,   198,   198,  2215,   257,  3644,\n",
       "         20417,   284,   262,  4455,    11,   257,  3127,   286,  9061,   318,\n",
       "          5884,   284,   340,    13,   198,   198,    32,  3127,   286,  9061,\n",
       "           318,  6692,   284,   257,  3644,    13,   317,  3127,   286,   584,\n",
       "          9061,   318,  6692,   284,   262,  4455,    13,  1649,   257,  3644,\n",
       "         20417,   284,   257,  3644,    11,   257,  3127,   318,  6692,   284,\n",
       "          1194,  3644,    13,   198,   198,  2215,   281,  4455,  4637,   318,\n",
       "           925,  1022,   257,  3644,   290,   257,  3127,   286,  9061,    11]])"
      ]
     },
     "execution_count": 53,
     "metadata": {},
     "output_type": "execute_result"
    }
   ],
   "source": [
    "output"
   ]
  },
  {
   "cell_type": "code",
   "execution_count": 55,
   "id": "b566dfb0",
   "metadata": {},
   "outputs": [
    {
     "data": {
      "text/plain": [
       "'Internet is a boom-and-bust industry.\\n\\nIn the past few years, there have been a number of changes to the way we communicate with each other. One of the most significant is the introduction of the Internet Protocol (IP).\\n\\nThe Internet Protocol (IP) is a protocol used by the Internet Service Providers (ISPs) to communicate with each other over the Internet. The Internet Protocol (IP), which was first introduced in 1996, is the most widely used protocol in the world today.\\n\\nIP is a protocol that is used to communicate over the Internet. It is used to connect computers to the Internet.\\n\\nIt is used to send and receive data over the Internet. In addition, it is used to communicate with other computers over the Internet. For example, if a computer is connected to the Internet, it can send data over the Internet to other computers on the same network.\\n\\nIP can be used to communicate over a wide range of Internet protocols. For example, it can be used to send data over a wide variety of Internet protocols.\\n\\nIt can also be used to communicate with a wide range of other computers. For example, a computer can be connected to the Internet and can send data over it.\\n\\nIn addition, IP can be used to connect a computer to the Internet and to receive data over it. For example, an Internet connection can be made between two computers on the same computer network.\\n\\nIn order to communicate with a computer over the Internet, a computer must first be connected to a computer on the Internet. The computer must then be connected to a network of computers that are connected to the Internet. The network of computers is called a computer.\\n\\nA computer is a computer that is connected to the network of computers on the Internet. A computer is connected to another computer on the network of computers.\\n\\nThe Internet is a network of computers. The Internet is a network that is connected to a computer. The Internet is also a network that is linked to a network of other computers on the network of other computers.\\n\\nWhen a computer connects to the Internet, a network of computers is connected to it.\\n\\nA network of computers is linked to a computer. A network of other computers is linked to the Internet. When a computer connects to a computer, a network is linked to another computer.\\n\\nWhen an Internet connection is made between a computer and a network of computers,'"
      ]
     },
     "execution_count": 55,
     "metadata": {},
     "output_type": "execute_result"
    }
   ],
   "source": [
    "tokenizer.decode(output[0],skip_special_tokens =True)"
   ]
  },
  {
   "cell_type": "code",
   "execution_count": null,
   "id": "d0a015d4",
   "metadata": {},
   "outputs": [],
   "source": []
  },
  {
   "cell_type": "code",
   "execution_count": null,
   "id": "37bc6b04",
   "metadata": {},
   "outputs": [],
   "source": []
  }
 ],
 "metadata": {
  "kernelspec": {
   "display_name": "Python 3",
   "language": "python",
   "name": "python3"
  },
  "language_info": {
   "codemirror_mode": {
    "name": "ipython",
    "version": 3
   },
   "file_extension": ".py",
   "mimetype": "text/x-python",
   "name": "python",
   "nbconvert_exporter": "python",
   "pygments_lexer": "ipython3",
   "version": "3.8.8"
  }
 },
 "nbformat": 4,
 "nbformat_minor": 5
}
